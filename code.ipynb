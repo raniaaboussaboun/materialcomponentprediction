{
 "cells": [
  {
   "cell_type": "code",
   "execution_count": 3,
   "metadata": {},
   "outputs": [],
   "source": [
    "import pandas as pd"
   ]
  },
  {
   "cell_type": "code",
   "execution_count": 4,
   "metadata": {},
   "outputs": [],
   "source": [
    "import matplotlib.pyplot as plt"
   ]
  },
  {
   "cell_type": "code",
   "execution_count": 5,
   "metadata": {},
   "outputs": [],
   "source": [
    "data=pd.read_excel('logistic_data_v1.xlsx')"
   ]
  },
  {
   "cell_type": "code",
   "execution_count": 6,
   "metadata": {},
   "outputs": [
    {
     "data": {
      "text/html": [
       "<div>\n",
       "<style scoped>\n",
       "    .dataframe tbody tr th:only-of-type {\n",
       "        vertical-align: middle;\n",
       "    }\n",
       "\n",
       "    .dataframe tbody tr th {\n",
       "        vertical-align: top;\n",
       "    }\n",
       "\n",
       "    .dataframe thead th {\n",
       "        text-align: right;\n",
       "    }\n",
       "</style>\n",
       "<table border=\"1\" class=\"dataframe\">\n",
       "  <thead>\n",
       "    <tr style=\"text-align: right;\">\n",
       "      <th></th>\n",
       "      <th>K(MPa)</th>\n",
       "      <th>epsilon_0</th>\n",
       "      <th>n</th>\n",
       "      <th>Umin(mm)</th>\n",
       "      <th>Fumin(N)</th>\n",
       "      <th>Uint(mm)</th>\n",
       "      <th>FUint(N)</th>\n",
       "      <th>UFmax(mm)</th>\n",
       "      <th>Fmax(N)</th>\n",
       "      <th>pente1</th>\n",
       "      <th>pente2</th>\n",
       "    </tr>\n",
       "  </thead>\n",
       "  <tbody>\n",
       "    <tr>\n",
       "      <th>0</th>\n",
       "      <td>400</td>\n",
       "      <td>0.001</td>\n",
       "      <td>0.15</td>\n",
       "      <td>0.24887</td>\n",
       "      <td>1085.258917</td>\n",
       "      <td>2.089109</td>\n",
       "      <td>1910.439714</td>\n",
       "      <td>10.572964</td>\n",
       "      <td>1943.394311</td>\n",
       "      <td>448.409721</td>\n",
       "      <td>3.884389</td>\n",
       "    </tr>\n",
       "    <tr>\n",
       "      <th>1</th>\n",
       "      <td>550</td>\n",
       "      <td>0.001</td>\n",
       "      <td>0.15</td>\n",
       "      <td>0.24887</td>\n",
       "      <td>1472.532116</td>\n",
       "      <td>2.065902</td>\n",
       "      <td>2625.373505</td>\n",
       "      <td>10.616330</td>\n",
       "      <td>2671.305527</td>\n",
       "      <td>634.464011</td>\n",
       "      <td>5.371898</td>\n",
       "    </tr>\n",
       "    <tr>\n",
       "      <th>2</th>\n",
       "      <td>700</td>\n",
       "      <td>0.001</td>\n",
       "      <td>0.15</td>\n",
       "      <td>0.24887</td>\n",
       "      <td>1865.863247</td>\n",
       "      <td>2.252145</td>\n",
       "      <td>3425.908793</td>\n",
       "      <td>12.616264</td>\n",
       "      <td>3395.272157</td>\n",
       "      <td>778.747499</td>\n",
       "      <td>-2.956029</td>\n",
       "    </tr>\n",
       "    <tr>\n",
       "      <th>3</th>\n",
       "      <td>850</td>\n",
       "      <td>0.001</td>\n",
       "      <td>0.15</td>\n",
       "      <td>0.24887</td>\n",
       "      <td>2246.508175</td>\n",
       "      <td>2.172331</td>\n",
       "      <td>4051.135133</td>\n",
       "      <td>10.790882</td>\n",
       "      <td>4125.089352</td>\n",
       "      <td>938.218597</td>\n",
       "      <td>8.580818</td>\n",
       "    </tr>\n",
       "    <tr>\n",
       "      <th>4</th>\n",
       "      <td>1000</td>\n",
       "      <td>0.001</td>\n",
       "      <td>0.15</td>\n",
       "      <td>0.24887</td>\n",
       "      <td>2619.809746</td>\n",
       "      <td>2.291147</td>\n",
       "      <td>4867.149496</td>\n",
       "      <td>12.508611</td>\n",
       "      <td>4847.925275</td>\n",
       "      <td>1100.408934</td>\n",
       "      <td>-1.881506</td>\n",
       "    </tr>\n",
       "  </tbody>\n",
       "</table>\n",
       "</div>"
      ],
      "text/plain": [
       "   K(MPa)  epsilon_0     n  Umin(mm)     Fumin(N)  Uint(mm)     FUint(N)  \\\n",
       "0     400      0.001  0.15   0.24887  1085.258917  2.089109  1910.439714   \n",
       "1     550      0.001  0.15   0.24887  1472.532116  2.065902  2625.373505   \n",
       "2     700      0.001  0.15   0.24887  1865.863247  2.252145  3425.908793   \n",
       "3     850      0.001  0.15   0.24887  2246.508175  2.172331  4051.135133   \n",
       "4    1000      0.001  0.15   0.24887  2619.809746  2.291147  4867.149496   \n",
       "\n",
       "   UFmax(mm)      Fmax(N)       pente1    pente2  \n",
       "0  10.572964  1943.394311   448.409721  3.884389  \n",
       "1  10.616330  2671.305527   634.464011  5.371898  \n",
       "2  12.616264  3395.272157   778.747499 -2.956029  \n",
       "3  10.790882  4125.089352   938.218597  8.580818  \n",
       "4  12.508611  4847.925275  1100.408934 -1.881506  "
      ]
     },
     "execution_count": 6,
     "metadata": {},
     "output_type": "execute_result"
    }
   ],
   "source": [
    "data.head()"
   ]
  },
  {
   "cell_type": "markdown",
   "metadata": {},
   "source": [
    "- K (MPa): Module d'élasticité : \n",
    "-  Epsilon_0 (sans unité): Déformation initiale \n",
    "-  N: Exposant de durcissement\n",
    "- Umin (mm) - Déplacement minimal \n",
    "-  Fmin (N) - Force minimale \n",
    "-  Uint(mm) - Déplacement à l'intersection \n",
    "-  Fint (N) - Force à l'intersection \n",
    "- Umax (mm) - Déplacement à la force maximale \n",
    "- Fmax (N) - Force maximale \n",
    "- pente1 - Première pente "
   ]
  },
  {
   "cell_type": "code",
   "execution_count": 7,
   "metadata": {},
   "outputs": [
    {
     "data": {
      "text/html": [
       "<div>\n",
       "<style scoped>\n",
       "    .dataframe tbody tr th:only-of-type {\n",
       "        vertical-align: middle;\n",
       "    }\n",
       "\n",
       "    .dataframe tbody tr th {\n",
       "        vertical-align: top;\n",
       "    }\n",
       "\n",
       "    .dataframe thead th {\n",
       "        text-align: right;\n",
       "    }\n",
       "</style>\n",
       "<table border=\"1\" class=\"dataframe\">\n",
       "  <thead>\n",
       "    <tr style=\"text-align: right;\">\n",
       "      <th></th>\n",
       "      <th>K(MPa)</th>\n",
       "      <th>epsilon_0</th>\n",
       "      <th>n</th>\n",
       "      <th>Umin(mm)</th>\n",
       "      <th>Fumin(N)</th>\n",
       "      <th>Uint(mm)</th>\n",
       "      <th>FUint(N)</th>\n",
       "      <th>UFmax(mm)</th>\n",
       "      <th>Fmax(N)</th>\n",
       "      <th>pente1</th>\n",
       "      <th>pente2</th>\n",
       "    </tr>\n",
       "  </thead>\n",
       "  <tbody>\n",
       "    <tr>\n",
       "      <th>count</th>\n",
       "      <td>125.000000</td>\n",
       "      <td>125.000000</td>\n",
       "      <td>125.000000</td>\n",
       "      <td>125.00000</td>\n",
       "      <td>125.000000</td>\n",
       "      <td>125.000000</td>\n",
       "      <td>125.000000</td>\n",
       "      <td>125.000000</td>\n",
       "      <td>125.000000</td>\n",
       "      <td>125.000000</td>\n",
       "      <td>125.000000</td>\n",
       "    </tr>\n",
       "    <tr>\n",
       "      <th>mean</th>\n",
       "      <td>700.000000</td>\n",
       "      <td>0.010500</td>\n",
       "      <td>0.250000</td>\n",
       "      <td>0.24887</td>\n",
       "      <td>1686.817117</td>\n",
       "      <td>3.156758</td>\n",
       "      <td>2823.403247</td>\n",
       "      <td>15.675772</td>\n",
       "      <td>2950.022484</td>\n",
       "      <td>410.168408</td>\n",
       "      <td>8.701571</td>\n",
       "    </tr>\n",
       "    <tr>\n",
       "      <th>std</th>\n",
       "      <td>212.985688</td>\n",
       "      <td>0.006745</td>\n",
       "      <td>0.070995</td>\n",
       "      <td>0.00000</td>\n",
       "      <td>824.906499</td>\n",
       "      <td>0.504147</td>\n",
       "      <td>966.277885</td>\n",
       "      <td>2.928405</td>\n",
       "      <td>951.892904</td>\n",
       "      <td>211.657965</td>\n",
       "      <td>10.823105</td>\n",
       "    </tr>\n",
       "    <tr>\n",
       "      <th>min</th>\n",
       "      <td>400.000000</td>\n",
       "      <td>0.001000</td>\n",
       "      <td>0.150000</td>\n",
       "      <td>0.24887</td>\n",
       "      <td>306.886617</td>\n",
       "      <td>2.065902</td>\n",
       "      <td>1180.755369</td>\n",
       "      <td>9.331278</td>\n",
       "      <td>1402.041525</td>\n",
       "      <td>124.045802</td>\n",
       "      <td>-5.463657</td>\n",
       "    </tr>\n",
       "    <tr>\n",
       "      <th>25%</th>\n",
       "      <td>550.000000</td>\n",
       "      <td>0.005750</td>\n",
       "      <td>0.200000</td>\n",
       "      <td>0.24887</td>\n",
       "      <td>1078.772743</td>\n",
       "      <td>2.725370</td>\n",
       "      <td>1990.127790</td>\n",
       "      <td>14.701039</td>\n",
       "      <td>2125.739888</td>\n",
       "      <td>262.487389</td>\n",
       "      <td>-0.698125</td>\n",
       "    </tr>\n",
       "    <tr>\n",
       "      <th>50%</th>\n",
       "      <td>700.000000</td>\n",
       "      <td>0.010500</td>\n",
       "      <td>0.250000</td>\n",
       "      <td>0.24887</td>\n",
       "      <td>1559.544575</td>\n",
       "      <td>3.206926</td>\n",
       "      <td>2717.617455</td>\n",
       "      <td>17.280532</td>\n",
       "      <td>2916.214984</td>\n",
       "      <td>359.308451</td>\n",
       "      <td>6.031180</td>\n",
       "    </tr>\n",
       "    <tr>\n",
       "      <th>75%</th>\n",
       "      <td>850.000000</td>\n",
       "      <td>0.015250</td>\n",
       "      <td>0.300000</td>\n",
       "      <td>0.24887</td>\n",
       "      <td>2155.213284</td>\n",
       "      <td>3.541056</td>\n",
       "      <td>3462.724354</td>\n",
       "      <td>17.849251</td>\n",
       "      <td>3626.775162</td>\n",
       "      <td>500.268954</td>\n",
       "      <td>15.892552</td>\n",
       "    </tr>\n",
       "    <tr>\n",
       "      <th>max</th>\n",
       "      <td>1000.000000</td>\n",
       "      <td>0.020000</td>\n",
       "      <td>0.350000</td>\n",
       "      <td>0.24887</td>\n",
       "      <td>4113.787134</td>\n",
       "      <td>4.041993</td>\n",
       "      <td>4969.044886</td>\n",
       "      <td>18.040558</td>\n",
       "      <td>4945.071548</td>\n",
       "      <td>1100.408934</td>\n",
       "      <td>50.616059</td>\n",
       "    </tr>\n",
       "  </tbody>\n",
       "</table>\n",
       "</div>"
      ],
      "text/plain": [
       "            K(MPa)   epsilon_0           n   Umin(mm)     Fumin(N)  \\\n",
       "count   125.000000  125.000000  125.000000  125.00000   125.000000   \n",
       "mean    700.000000    0.010500    0.250000    0.24887  1686.817117   \n",
       "std     212.985688    0.006745    0.070995    0.00000   824.906499   \n",
       "min     400.000000    0.001000    0.150000    0.24887   306.886617   \n",
       "25%     550.000000    0.005750    0.200000    0.24887  1078.772743   \n",
       "50%     700.000000    0.010500    0.250000    0.24887  1559.544575   \n",
       "75%     850.000000    0.015250    0.300000    0.24887  2155.213284   \n",
       "max    1000.000000    0.020000    0.350000    0.24887  4113.787134   \n",
       "\n",
       "         Uint(mm)     FUint(N)   UFmax(mm)      Fmax(N)       pente1  \\\n",
       "count  125.000000   125.000000  125.000000   125.000000   125.000000   \n",
       "mean     3.156758  2823.403247   15.675772  2950.022484   410.168408   \n",
       "std      0.504147   966.277885    2.928405   951.892904   211.657965   \n",
       "min      2.065902  1180.755369    9.331278  1402.041525   124.045802   \n",
       "25%      2.725370  1990.127790   14.701039  2125.739888   262.487389   \n",
       "50%      3.206926  2717.617455   17.280532  2916.214984   359.308451   \n",
       "75%      3.541056  3462.724354   17.849251  3626.775162   500.268954   \n",
       "max      4.041993  4969.044886   18.040558  4945.071548  1100.408934   \n",
       "\n",
       "           pente2  \n",
       "count  125.000000  \n",
       "mean     8.701571  \n",
       "std     10.823105  \n",
       "min     -5.463657  \n",
       "25%     -0.698125  \n",
       "50%      6.031180  \n",
       "75%     15.892552  \n",
       "max     50.616059  "
      ]
     },
     "execution_count": 7,
     "metadata": {},
     "output_type": "execute_result"
    }
   ],
   "source": [
    "data.describe()"
   ]
  },
  {
   "cell_type": "code",
   "execution_count": 8,
   "metadata": {},
   "outputs": [
    {
     "name": "stdout",
     "output_type": "stream",
     "text": [
      "<class 'pandas.core.frame.DataFrame'>\n",
      "RangeIndex: 125 entries, 0 to 124\n",
      "Data columns (total 11 columns):\n",
      " #   Column     Non-Null Count  Dtype  \n",
      "---  ------     --------------  -----  \n",
      " 0   K(MPa)     125 non-null    int64  \n",
      " 1   epsilon_0  125 non-null    float64\n",
      " 2   n          125 non-null    float64\n",
      " 3   Umin(mm)   125 non-null    float64\n",
      " 4   Fumin(N)   125 non-null    float64\n",
      " 5   Uint(mm)   125 non-null    float64\n",
      " 6   FUint(N)   125 non-null    float64\n",
      " 7   UFmax(mm)  125 non-null    float64\n",
      " 8   Fmax(N)    125 non-null    float64\n",
      " 9   pente1     125 non-null    float64\n",
      " 10  pente2     125 non-null    float64\n",
      "dtypes: float64(10), int64(1)\n",
      "memory usage: 10.9 KB\n"
     ]
    }
   ],
   "source": [
    "data.info()"
   ]
  },
  {
   "cell_type": "code",
   "execution_count": 9,
   "metadata": {},
   "outputs": [
    {
     "data": {
      "text/plain": [
       "[<matplotlib.lines.Line2D at 0x2a3145e0c70>]"
      ]
     },
     "execution_count": 9,
     "metadata": {},
     "output_type": "execute_result"
    },
    {
     "data": {
      "image/png": "[encoded data removed]",
      "text/plain": [
       "<Figure size 640x480 with 1 Axes>"
      ]
     },
     "metadata": {},
     "output_type": "display_data"
    }
   ],
   "source": [
    "plt.plot(data['pente1'])"
   ]
  },
  {
   "cell_type": "code",
   "execution_count": 10,
   "metadata": {},
   "outputs": [
    {
     "data": {
      "text/plain": [
       "[<matplotlib.lines.Line2D at 0x2a3147db910>]"
      ]
     },
     "execution_count": 10,
     "metadata": {},
     "output_type": "execute_result"
    },
    {
     "data": {
      "image/png": "[encoded data removed]",
      "text/plain": [
       "<Figure size 640x480 with 1 Axes>"
      ]
     },
     "metadata": {},
     "output_type": "display_data"
    }
   ],
   "source": [
    "plt.plot(data['pente2'])"
   ]
  },
  {
   "cell_type": "code",
   "execution_count": 12,
   "metadata": {},
   "outputs": [],
   "source": [
    "X = data.drop(['K(MPa)', 'epsilon_0', 'n'], axis=1)  \n",
    "y_K = data['K(MPa)']  \n",
    "y_epsilon_0 = data['epsilon_0']  \n",
    "y_n = data['n'] "
   ]
  },
  {
   "cell_type": "markdown",
   "metadata": {},
   "source": [
    "normalize data"
   ]
  },
  {
   "cell_type": "code",
   "execution_count": 14,
   "metadata": {},
   "outputs": [],
   "source": [
    "from sklearn.model_selection import train_test_split, GridSearchCV\n",
    "from sklearn.preprocessing import StandardScaler\n",
    "\n"
   ]
  },
  {
   "cell_type": "code",
   "execution_count": 15,
   "metadata": {},
   "outputs": [],
   "source": [
    "scaler = StandardScaler()\n",
    "X_scaled = scaler.fit_transform(X)"
   ]
  },
  {
   "cell_type": "markdown",
   "metadata": {},
   "source": [
    "split on each y to predict each y alone"
   ]
  },
  {
   "cell_type": "code",
   "execution_count": 16,
   "metadata": {},
   "outputs": [],
   "source": [
    "X_train, X_test, y_train_K, y_test_K = train_test_split(X_scaled, y_K, test_size=0.2, random_state=42)\n",
    "_, _, y_train_epsilon_0, y_test_epsilon_0 = train_test_split(X_scaled, y_epsilon_0, test_size=0.2, random_state=42)\n",
    "_, _, y_train_n, y_test_n = train_test_split(X_scaled, y_n, test_size=0.2, random_state=42)\n"
   ]
  },
  {
   "cell_type": "code",
   "execution_count": 17,
   "metadata": {},
   "outputs": [],
   "source": [
    "from sklearn.metrics import mean_squared_error, r2_score"
   ]
  },
  {
   "cell_type": "markdown",
   "metadata": {},
   "source": [
    "For the evaluation metrics : mse and r2 "
   ]
  },
  {
   "cell_type": "code",
   "execution_count": 18,
   "metadata": {},
   "outputs": [],
   "source": [
    "def evaluate_model(y_true, y_pred, model_name):\n",
    "    mse = mean_squared_error(y_true, y_pred)\n",
    "    r2 = r2_score(y_true, y_pred)\n",
    "    print(f'{model_name} - Mean Squared Error: {mse}, R²: {r2}')\n",
    "    return mse, r2"
   ]
  },
  {
   "cell_type": "code",
   "execution_count": 19,
   "metadata": {},
   "outputs": [],
   "source": [
    "from sklearn.linear_model import LinearRegression, Ridge, Lasso\n",
    "from sklearn.svm import SVR\n",
    "from sklearn.ensemble import RandomForestRegressor\n",
    "from sklearn.gaussian_process import GaussianProcessRegressor\n",
    "from sklearn.gaussian_process.kernels import RBF, ConstantKernel as C\n",
    "from xgboost import XGBRegressor"
   ]
  },
  {
   "cell_type": "markdown",
   "metadata": {},
   "source": [
    "linear regression"
   ]
  },
  {
   "cell_type": "code",
   "execution_count": 20,
   "metadata": {},
   "outputs": [
    {
     "name": "stdout",
     "output_type": "stream",
     "text": [
      "Linear Regression - Mean Squared Error: 993.0802567556427, R²: 0.9716780670557938\n"
     ]
    },
    {
     "data": {
      "text/plain": [
       "(993.0802567556427, 0.9716780670557938)"
      ]
     },
     "execution_count": 20,
     "metadata": {},
     "output_type": "execute_result"
    }
   ],
   "source": [
    "lr = LinearRegression()\n",
    "lr.fit(X_train, y_train_K)\n",
    "y_pred_K = lr.predict(X_test)\n",
    "evaluate_model(y_test_K, y_pred_K, \"Linear Regression\")"
   ]
  },
  {
   "cell_type": "code",
   "execution_count": 24,
   "metadata": {},
   "outputs": [
    {
     "name": "stdout",
     "output_type": "stream",
     "text": [
      "SVR - Mean Squared Error: 32259.046182448506, R²: 0.07999526059638074\n"
     ]
    },
    {
     "data": {
      "text/plain": [
       "(32259.046182448506, 0.07999526059638074)"
      ]
     },
     "execution_count": 24,
     "metadata": {},
     "output_type": "execute_result"
    }
   ],
   "source": [
    "svr = SVR(kernel='rbf') \n",
    "svr.fit(X_train, y_train_K)\n",
    "y_pred_K_svr = svr.predict(X_test)\n",
    "evaluate_model(y_test_K, y_pred_K_svr, \"SVR\")"
   ]
  },
  {
   "cell_type": "code",
   "execution_count": 25,
   "metadata": {},
   "outputs": [
    {
     "name": "stdout",
     "output_type": "stream",
     "text": [
      "SVR - Mean Squared Error: 2188.6208507516644, R²: 0.9375821112607898\n"
     ]
    },
    {
     "data": {
      "text/plain": [
       "(2188.6208507516644, 0.9375821112607898)"
      ]
     },
     "execution_count": 25,
     "metadata": {},
     "output_type": "execute_result"
    }
   ],
   "source": [
    "svr = SVR(kernel='linear') \n",
    "svr.fit(X_train, y_train_K)\n",
    "y_pred_K_svr = svr.predict(X_test)\n",
    "evaluate_model(y_test_K, y_pred_K_svr, \"SVR\")"
   ]
  },
  {
   "cell_type": "markdown",
   "metadata": {},
   "source": [
    "RF"
   ]
  },
  {
   "cell_type": "code",
   "execution_count": 26,
   "metadata": {},
   "outputs": [
    {
     "name": "stdout",
     "output_type": "stream",
     "text": [
      "Random Forest - Mean Squared Error: 2147.4264000000003, R²: 0.9387569472963724\n"
     ]
    },
    {
     "data": {
      "text/plain": [
       "(2147.4264000000003, 0.9387569472963724)"
      ]
     },
     "execution_count": 26,
     "metadata": {},
     "output_type": "execute_result"
    }
   ],
   "source": [
    "rf = RandomForestRegressor(n_estimators=100, random_state=42)\n",
    "rf.fit(X_train, y_train_K)\n",
    "y_pred_K_rf = rf.predict(X_test)\n",
    "evaluate_model(y_test_K, y_pred_K_rf, \"Random Forest\")"
   ]
  },
  {
   "cell_type": "markdown",
   "metadata": {},
   "source": [
    "xgboost"
   ]
  },
  {
   "cell_type": "code",
   "execution_count": 27,
   "metadata": {},
   "outputs": [
    {
     "name": "stdout",
     "output_type": "stream",
     "text": [
      "XGBoost - Mean Squared Error: 4779.54479293324, R²: 0.863690828401402\n"
     ]
    },
    {
     "data": {
      "text/plain": [
       "(4779.54479293324, 0.863690828401402)"
      ]
     },
     "execution_count": 27,
     "metadata": {},
     "output_type": "execute_result"
    }
   ],
   "source": [
    "xgb = XGBRegressor(objective ='reg:squarederror', n_estimators=100)\n",
    "xgb.fit(X_train, y_train_K)\n",
    "y_pred_K_xgb = xgb.predict(X_test)\n",
    "evaluate_model(y_test_K, y_pred_K_xgb, \"XGBoost\")"
   ]
  },
  {
   "cell_type": "code",
   "execution_count": 28,
   "metadata": {},
   "outputs": [
    {
     "name": "stdout",
     "output_type": "stream",
     "text": [
      "Gaussian Process Regression - Mean Squared Error: 6638.18105428908, R²: 0.8106838622436379\n"
     ]
    },
    {
     "name": "stderr",
     "output_type": "stream",
     "text": [
      "c:\\Users\\Rania\\anaconda3\\envs\\mlops\\lib\\site-packages\\sklearn\\gaussian_process\\kernels.py:455: ConvergenceWarning: The optimal value found for dimension 0 of parameter k1__constant_value is close to the specified upper bound 10.0. Increasing the bound and calling fit again may find a better value.\n",
      "  warnings.warn(\n"
     ]
    },
    {
     "data": {
      "text/plain": [
       "(6638.18105428908, 0.8106838622436379)"
      ]
     },
     "execution_count": 28,
     "metadata": {},
     "output_type": "execute_result"
    }
   ],
   "source": [
    "kernel = C(1.0, (1e-4, 1e1)) * RBF(1.0, (1e-4, 1e1))\n",
    "gpr = GaussianProcessRegressor(kernel=kernel, n_restarts_optimizer=10, alpha=1e-2)\n",
    "gpr.fit(X_train, y_train_K)\n",
    "y_pred_K_gpr, y_std_K_gpr = gpr.predict(X_test, return_std=True)\n",
    "evaluate_model(y_test_K, y_pred_K_gpr, \"Gaussian Process Regression\")"
   ]
  },
  {
   "cell_type": "code",
   "execution_count": 29,
   "metadata": {},
   "outputs": [
    {
     "name": "stdout",
     "output_type": "stream",
     "text": [
      "Linear Regression (epsilon_0) - Mean Squared Error: 2.95890863061642e-06, R²: 0.9404329738409051\n"
     ]
    },
    {
     "data": {
      "text/plain": [
       "(2.95890863061642e-06, 0.9404329738409051)"
      ]
     },
     "execution_count": 29,
     "metadata": {},
     "output_type": "execute_result"
    }
   ],
   "source": [
    "lr.fit(X_train, y_train_epsilon_0)\n",
    "y_pred_epsilon_0 = lr.predict(X_test)\n",
    "evaluate_model(y_test_epsilon_0, y_pred_epsilon_0, \"Linear Regression (epsilon_0)\")\n"
   ]
  },
  {
   "cell_type": "code",
   "execution_count": 34,
   "metadata": {},
   "outputs": [
    {
     "name": "stdout",
     "output_type": "stream",
     "text": [
      "svm (epsilon_0) - Mean Squared Error: 5.14425e-05, R²: -0.03561046511627919\n"
     ]
    },
    {
     "data": {
      "text/plain": [
       "(5.14425e-05, -0.03561046511627919)"
      ]
     },
     "execution_count": 34,
     "metadata": {},
     "output_type": "execute_result"
    }
   ],
   "source": [
    "svr.fit(X_train, y_train_epsilon_0)\n",
    "y_pred_epsilon_0 = svr.predict(X_test)\n",
    "evaluate_model(y_test_epsilon_0, y_pred_epsilon_0, \"svm (epsilon_0)\")\n"
   ]
  },
  {
   "cell_type": "code",
   "execution_count": 35,
   "metadata": {},
   "outputs": [
    {
     "name": "stdout",
     "output_type": "stream",
     "text": [
      "rf (epsilon_0) - Mean Squared Error: 2.3057897291666736e-06, R²: 0.9535811833817828\n"
     ]
    },
    {
     "data": {
      "text/plain": [
       "(2.3057897291666736e-06, 0.9535811833817828)"
      ]
     },
     "execution_count": 35,
     "metadata": {},
     "output_type": "execute_result"
    }
   ],
   "source": [
    "rf.fit(X_train, y_train_epsilon_0)\n",
    "y_pred_epsilon_0 = rf.predict(X_test)\n",
    "evaluate_model(y_test_epsilon_0, y_pred_epsilon_0, \"rf (epsilon_0)\")\n"
   ]
  },
  {
   "cell_type": "code",
   "execution_count": 36,
   "metadata": {},
   "outputs": [
    {
     "name": "stdout",
     "output_type": "stream",
     "text": [
      "xgb (epsilon_0) - Mean Squared Error: 3.7367765291216312e-06, R²: 0.9247733901081937\n"
     ]
    },
    {
     "data": {
      "text/plain": [
       "(3.7367765291216312e-06, 0.9247733901081937)"
      ]
     },
     "execution_count": 36,
     "metadata": {},
     "output_type": "execute_result"
    }
   ],
   "source": [
    "xgb.fit(X_train, y_train_epsilon_0)\n",
    "y_pred_epsilon_0 = xgb.predict(X_test)\n",
    "evaluate_model(y_test_epsilon_0, y_pred_epsilon_0, \"xgb (epsilon_0)\")\n"
   ]
  },
  {
   "cell_type": "code",
   "execution_count": 30,
   "metadata": {},
   "outputs": [
    {
     "name": "stdout",
     "output_type": "stream",
     "text": [
      "Linear Regression (n) - Mean Squared Error: 0.00022932781902249076, R²: 0.9558984963418287\n"
     ]
    },
    {
     "data": {
      "text/plain": [
       "(0.00022932781902249076, 0.9558984963418287)"
      ]
     },
     "execution_count": 30,
     "metadata": {},
     "output_type": "execute_result"
    }
   ],
   "source": [
    "lr.fit(X_train, y_train_n)\n",
    "y_pred_n = lr.predict(X_test)\n",
    "evaluate_model(y_test_n, y_pred_n, \"Linear Regression (n)\")"
   ]
  },
  {
   "cell_type": "code",
   "execution_count": 37,
   "metadata": {},
   "outputs": [
    {
     "name": "stdout",
     "output_type": "stream",
     "text": [
      "rf (n) - Mean Squared Error: 1.3240000000000005e-05, R²: 0.9974538461538461\n"
     ]
    },
    {
     "data": {
      "text/plain": [
       "(1.3240000000000005e-05, 0.9974538461538461)"
      ]
     },
     "execution_count": 37,
     "metadata": {},
     "output_type": "execute_result"
    }
   ],
   "source": [
    "rf.fit(X_train, y_train_n)\n",
    "y_pred_n = rf.predict(X_test)\n",
    "evaluate_model(y_test_n, y_pred_n, \"rf (n)\")"
   ]
  },
  {
   "cell_type": "code",
   "execution_count": 40,
   "metadata": {},
   "outputs": [
    {
     "name": "stdout",
     "output_type": "stream",
     "text": [
      "xgb (n) - Mean Squared Error: 0.000100091474965086, R²: 0.9807516394297912\n"
     ]
    },
    {
     "data": {
      "text/plain": [
       "(0.000100091474965086, 0.9807516394297912)"
      ]
     },
     "execution_count": 40,
     "metadata": {},
     "output_type": "execute_result"
    }
   ],
   "source": [
    "xgb.fit(X_train, y_train_n)\n",
    "y_pred_n = xgb.predict(X_test)\n",
    "evaluate_model(y_test_n, y_pred_n, \"xgb (n)\")"
   ]
  },
  {
   "cell_type": "code",
   "execution_count": 41,
   "metadata": {},
   "outputs": [
    {
     "name": "stdout",
     "output_type": "stream",
     "text": [
      "svr (n) - Mean Squared Error: 0.005299999999999999, R²: -0.019230769230769384\n"
     ]
    },
    {
     "data": {
      "text/plain": [
       "(0.005299999999999999, -0.019230769230769384)"
      ]
     },
     "execution_count": 41,
     "metadata": {},
     "output_type": "execute_result"
    }
   ],
   "source": [
    "svr.fit(X_train, y_train_n)\n",
    "y_pred_n = svr.predict(X_test)\n",
    "evaluate_model(y_test_n, y_pred_n, \"svr (n)\")"
   ]
  },
  {
   "cell_type": "markdown",
   "metadata": {},
   "source": [
    "- for n the random forest is the best model\n",
    "- for epsilon 0 linear regression is the best model \n"
   ]
  },
  {
   "cell_type": "markdown",
   "metadata": {},
   "source": [
    "ridge +lasso + ann"
   ]
  },
  {
   "cell_type": "code",
   "execution_count": 42,
   "metadata": {},
   "outputs": [
    {
     "name": "stdout",
     "output_type": "stream",
     "text": [
      "Ridge Regression - Mean Squared Error: 1169.2480752253643, R²: 0.9666538878842869\n",
      "Lasso Regression - Mean Squared Error: 1136.7440563679504, R²: 0.9675808790677632\n",
      "Ridge Regression - Mean Squared Error: 2.315146680208141e-06, R²: 0.9533928146901344\n",
      "Lasso Regression - Mean Squared Error: 5.243750624999998e-05, R²: -0.05564135174418583\n",
      "Ridge Regression - Mean Squared Error: 0.00024074357922861597, R²: 0.9537031578406507\n",
      "Lasso Regression - Mean Squared Error: 0.00535625, R²: -0.030048076923077316\n"
     ]
    },
    {
     "data": {
      "text/plain": [
       "(0.00535625, -0.030048076923077316)"
      ]
     },
     "execution_count": 42,
     "metadata": {},
     "output_type": "execute_result"
    }
   ],
   "source": [
    "from sklearn.linear_model import Ridge, Lasso\n",
    "from tensorflow.keras.models import Sequential\n",
    "from tensorflow.keras.layers import Dense\n",
    "\n",
    "\n",
    "def ridge_lasso_model(X_train, X_test, y_train, y_test, alpha=1.0, model_type='ridge'):\n",
    "    if model_type == 'ridge':\n",
    "        model = Ridge(alpha=alpha)\n",
    "    elif model_type == 'lasso':\n",
    "        model = Lasso(alpha=alpha)\n",
    "    \n",
    "    model.fit(X_train, y_train)\n",
    "    y_pred = model.predict(X_test)\n",
    "    mse, r2 = evaluate_model(y_test, y_pred, f\"{model_type.capitalize()} Regression\")\n",
    "    return mse, r2\n",
    "\n",
    "ridge_lasso_model(X_train, X_test, y_train_K, y_test_K, model_type='ridge')  # Ridge pour K\n",
    "ridge_lasso_model(X_train, X_test, y_train_K, y_test_K, model_type='lasso')  # Lasso pour K\n",
    "\n",
    "#  epsilon_0\n",
    "ridge_lasso_model(X_train, X_test, y_train_epsilon_0, y_test_epsilon_0, model_type='ridge')  # Ridge pour epsilon_0\n",
    "ridge_lasso_model(X_train, X_test, y_train_epsilon_0, y_test_epsilon_0, model_type='lasso')  # Lasso pour epsilon_0\n",
    "\n",
    "#  pour n\n",
    "ridge_lasso_model(X_train, X_test, y_train_n, y_test_n, model_type='ridge')  # Ridge pour n\n",
    "ridge_lasso_model(X_train, X_test, y_train_n, y_test_n, model_type='lasso')  # Lasso pour n\n"
   ]
  },
  {
   "cell_type": "code",
   "execution_count": 43,
   "metadata": {},
   "outputs": [
    {
     "name": "stdout",
     "output_type": "stream",
     "text": [
      "Ridge Regression - Mean Squared Error: 1169.2480752253643, R²: 0.9666538878842869\n",
      "Validation croisée (MSE): 4165.3537 ± 6834.1068\n",
      "Lasso Regression - Mean Squared Error: 5.243750624999998e-05, R²: -0.05564135174418583\n",
      "Validation croisée (MSE): 0.0000 ± 0.0000\n",
      "Ridge Regression - Mean Squared Error: 0.00024074357922861597, R²: 0.9537031578406507\n",
      "Validation croisée (MSE): 0.0004 ± 0.0001\n"
     ]
    },
    {
     "data": {
      "text/plain": [
       "(0.00024074357922861597, 0.9537031578406507)"
      ]
     },
     "execution_count": 43,
     "metadata": {},
     "output_type": "execute_result"
    }
   ],
   "source": [
    "from sklearn.model_selection import cross_val_score, KFold\n",
    "import matplotlib.pyplot as plt\n",
    "import seaborn as sns\n",
    "import numpy as np\n",
    "\n",
    "def cross_validate_model(model, X, y, cv=5):\n",
    "    kfold = KFold(n_splits=cv, shuffle=True, random_state=42)\n",
    "    cv_results = cross_val_score(model, X, y, cv=kfold, scoring='neg_mean_squared_error')\n",
    "    print(f\"Validation croisée (MSE): {np.mean(-cv_results):.4f} ± {np.std(-cv_results):.4f}\")\n",
    "    return cv_results\n",
    "\n",
    "\n",
    "def ridge_lasso_model_with_cv(X_train, X_test, y_train, y_test, alpha=1.0, model_type='ridge', cv=5):\n",
    "    if model_type == 'ridge':\n",
    "        model = Ridge(alpha=alpha)\n",
    "    elif model_type == 'lasso':\n",
    "        model = Lasso(alpha=alpha)\n",
    "    \n",
    "    model.fit(X_train, y_train)\n",
    "    y_pred = model.predict(X_test)\n",
    "    mse, r2 = evaluate_model(y_test, y_pred, f\"{model_type.capitalize()} Regression\")\n",
    "\n",
    "    cross_validate_model(model, X_train, y_train, cv=cv)\n",
    "    \n",
    "    return mse, r2\n",
    "\n",
    "ridge_lasso_model_with_cv(X_train, X_test, y_train_K, y_test_K, model_type='ridge')\n",
    "ridge_lasso_model_with_cv(X_train, X_test, y_train_epsilon_0, y_test_epsilon_0, model_type='lasso')\n",
    "ridge_lasso_model_with_cv(X_train, X_test, y_train_n, y_test_n, model_type='ridge')\n",
    "\n"
   ]
  },
  {
   "cell_type": "code",
   "execution_count": 44,
   "metadata": {},
   "outputs": [
    {
     "name": "stderr",
     "output_type": "stream",
     "text": [
      "c:\\Users\\Rania\\anaconda3\\envs\\mlops\\lib\\site-packages\\keras\\src\\layers\\core\\dense.py:88: UserWarning: Do not pass an `input_shape`/`input_dim` argument to a layer. When using Sequential models, prefer using an `Input(shape)` object as the first layer in the model instead.\n",
      "  super().__init__(activity_regularizer=activity_regularizer, **kwargs)\n"
     ]
    },
    {
     "name": "stdout",
     "output_type": "stream",
     "text": [
      "\u001b[1m1/1\u001b[0m \u001b[32m━━━━━━━━━━━━━━━━━━━━\u001b[0m\u001b[37m\u001b[0m \u001b[1m0s\u001b[0m 41ms/step\n",
      "Artificial Neural Network - Mean Squared Error: 53172.079219635474, R²: -0.5164293640096815\n"
     ]
    },
    {
     "name": "stderr",
     "output_type": "stream",
     "text": [
      "c:\\Users\\Rania\\anaconda3\\envs\\mlops\\lib\\site-packages\\keras\\src\\layers\\core\\dense.py:88: UserWarning: Do not pass an `input_shape`/`input_dim` argument to a layer. When using Sequential models, prefer using an `Input(shape)` object as the first layer in the model instead.\n",
      "  super().__init__(activity_regularizer=activity_regularizer, **kwargs)\n"
     ]
    },
    {
     "name": "stdout",
     "output_type": "stream",
     "text": [
      "\u001b[1m1/1\u001b[0m \u001b[32m━━━━━━━━━━━━━━━━━━━━\u001b[0m\u001b[37m\u001b[0m \u001b[1m0s\u001b[0m 38ms/step\n",
      "Artificial Neural Network - Mean Squared Error: 0.00030679173534402086, R²: -5.176152631257265\n"
     ]
    },
    {
     "name": "stderr",
     "output_type": "stream",
     "text": [
      "c:\\Users\\Rania\\anaconda3\\envs\\mlops\\lib\\site-packages\\keras\\src\\layers\\core\\dense.py:88: UserWarning: Do not pass an `input_shape`/`input_dim` argument to a layer. When using Sequential models, prefer using an `Input(shape)` object as the first layer in the model instead.\n",
      "  super().__init__(activity_regularizer=activity_regularizer, **kwargs)\n"
     ]
    },
    {
     "name": "stdout",
     "output_type": "stream",
     "text": [
      "\u001b[1m1/1\u001b[0m \u001b[32m━━━━━━━━━━━━━━━━━━━━\u001b[0m\u001b[37m\u001b[0m \u001b[1m0s\u001b[0m 39ms/step\n",
      "Artificial Neural Network - Mean Squared Error: 0.0007423481031082999, R²: 0.85724074940225\n"
     ]
    },
    {
     "data": {
      "text/plain": [
       "(0.0007423481031082999, 0.85724074940225)"
      ]
     },
     "execution_count": 44,
     "metadata": {},
     "output_type": "execute_result"
    }
   ],
   "source": [
    "\n",
    "\n",
    "def build_ann_model(input_shape):\n",
    "    model = Sequential()\n",
    "    model.add(Dense(64, activation='relu', input_shape=(input_shape,)))  \n",
    "    model.add(Dense(32, activation='relu'))  \n",
    "    model.add(Dense(16, activation='relu'))  \n",
    "    model.add(Dense(1))  \n",
    "    model.compile(optimizer='adam', loss='mse', metrics=['mae'])\n",
    "    return model\n",
    "\n",
    "def train_ann_model(X_train, X_test, y_train, y_test, epochs=50, batch_size=32):\n",
    "    model = build_ann_model(X_train.shape[1])\n",
    "    model.fit(X_train, y_train, epochs=epochs, batch_size=batch_size, verbose=0)\n",
    "    y_pred = model.predict(X_test)\n",
    "    mse, r2 = evaluate_model(y_test, y_pred, \"Artificial Neural Network\")\n",
    "    return mse, r2\n",
    "\n",
    "train_ann_model(X_train, X_test, y_train_K, y_test_K)\n",
    "\n",
    "train_ann_model(X_train, X_test, y_train_epsilon_0, y_test_epsilon_0)\n",
    "\n",
    "train_ann_model(X_train, X_test, y_train_n, y_test_n)\n"
   ]
  },
  {
   "cell_type": "markdown",
   "metadata": {},
   "source": [
    "better model for K"
   ]
  },
  {
   "cell_type": "code",
   "execution_count": 46,
   "metadata": {},
   "outputs": [],
   "source": [
    "def plot_predictions(y_true, y_pred, title):\n",
    "    \"\"\"Tracer les prédictions par rapport aux valeurs réelles.\"\"\"\n",
    "    plt.figure(figsize=(8, 6))\n",
    "    sns.scatterplot(x=y_true, y=y_pred, color=\"b\", label=\"Predictions\")\n",
    "    sns.lineplot(x=y_true, y=y_true, color=\"r\", label=\"True values\")\n",
    "    plt.title(title)\n",
    "    plt.xlabel(\"Valeurs réelles\")\n",
    "    plt.ylabel(\"Valeurs prédites\")\n",
    "    plt.legend()\n",
    "    plt.show()"
   ]
  },
  {
   "cell_type": "markdown",
   "metadata": {},
   "source": [
    "trying to find the best params for xgboost for k"
   ]
  },
  {
   "cell_type": "code",
   "execution_count": 47,
   "metadata": {},
   "outputs": [
    {
     "name": "stdout",
     "output_type": "stream",
     "text": [
      "Fitting 5 folds for each of 100 candidates, totalling 500 fits\n",
      "Meilleurs hyperparamètres trouvés : {'subsample': 0.8, 'reg_lambda': 1.5, 'reg_alpha': 0.5, 'n_estimators': 300, 'max_depth': 3, 'learning_rate': 0.01, 'colsample_bytree': 0.8}\n",
      "MSE pour XGBoost : 2817.0690\n",
      "R² pour XGBoost : 0.9197\n"
     ]
    },
    {
     "data": {
      "image/png": "[encoded data removed]",
      "text/plain": [
       "<Figure size 800x600 with 1 Axes>"
      ]
     },
     "metadata": {},
     "output_type": "display_data"
    }
   ],
   "source": [
    "from xgboost import XGBRegressor\n",
    "from sklearn.model_selection import RandomizedSearchCV\n",
    "from sklearn.metrics import mean_squared_error, r2_score\n",
    "\n",
    "xgb = XGBRegressor()\n",
    "\n",
    "params = {\n",
    "    'n_estimators': [100, 200, 300],\n",
    "    'max_depth': [3, 4, 5, 6, 7],\n",
    "    'learning_rate': [0.01, 0.05, 0.1, 0.2],\n",
    "    'subsample': [0.6, 0.8, 1.0],\n",
    "    'colsample_bytree': [0.6, 0.8, 1.0],\n",
    "    'reg_alpha': [0, 0.1, 0.5, 1],\n",
    "    'reg_lambda': [0.5, 1, 1.5, 2]\n",
    "}\n",
    "\n",
    "random_search = RandomizedSearchCV(estimator=xgb, param_distributions=params, \n",
    "                                   n_iter=100, scoring='neg_mean_squared_error', \n",
    "                                   cv=5, verbose=2, random_state=42, n_jobs=-1)\n",
    "\n",
    "random_search.fit(X_train, y_train_K)\n",
    "\n",
    "print(\"Meilleurs hyperparamètres trouvés :\", random_search.best_params_)\n",
    "\n",
    "best_model = random_search.best_estimator_\n",
    "y_pred = best_model.predict(X_test)\n",
    "\n",
    "mse = mean_squared_error(y_test_K, y_pred)\n",
    "r2 = r2_score(y_test_K, y_pred)\n",
    "print(f\"MSE pour XGBoost : {mse:.4f}\")\n",
    "print(f\"R² pour XGBoost : {r2:.4f}\")\n",
    "\n",
    "plot_predictions(y_test_K, y_pred, \"Predictions vs Real Values for K (XGBoost)\")\n"
   ]
  },
  {
   "cell_type": "code",
   "execution_count": 49,
   "metadata": {},
   "outputs": [
    {
     "name": "stdout",
     "output_type": "stream",
     "text": [
      "MSE pour le GPR : 3374.8175\n",
      "R² pour le GPR : 0.9038\n"
     ]
    },
    {
     "name": "stderr",
     "output_type": "stream",
     "text": [
      "c:\\Users\\Rania\\anaconda3\\envs\\mlops\\lib\\site-packages\\sklearn\\gaussian_process\\_gpr.py:663: ConvergenceWarning: lbfgs failed to converge (status=2):\n",
      "ABNORMAL_TERMINATION_IN_LNSRCH.\n",
      "\n",
      "Increase the number of iterations (max_iter) or scale the data as shown in:\n",
      "    https://scikit-learn.org/stable/modules/preprocessing.html\n",
      "  _check_optimize_result(\"lbfgs\", opt_res)\n",
      "c:\\Users\\Rania\\anaconda3\\envs\\mlops\\lib\\site-packages\\sklearn\\gaussian_process\\kernels.py:455: ConvergenceWarning: The optimal value found for dimension 0 of parameter k1__constant_value is close to the specified upper bound 10.0. Increasing the bound and calling fit again may find a better value.\n",
      "  warnings.warn(\n"
     ]
    }
   ],
   "source": [
    "from sklearn.gaussian_process import GaussianProcessRegressor\n",
    "from sklearn.gaussian_process.kernels import RBF, ConstantKernel as C\n",
    "\n",
    "# Définir un noyau pour le processus gaussien\n",
    "kernel = C(1.0, (1e-4, 1e1)) * RBF(1.0, (1e-4, 1e1))\n",
    "\n",
    "# Modèle processus gaussien\n",
    "gpr = GaussianProcessRegressor(kernel=kernel, n_restarts_optimizer=10, alpha=0.1)\n",
    "\n",
    "# Entraîner le modèle\n",
    "gpr.fit(X_train, y_train_K)\n",
    "\n",
    "# Prédiction et évaluation\n",
    "y_pred_gpr = gpr.predict(X_test)\n",
    "\n",
    "mse_gpr = mean_squared_error(y_test_K, y_pred_gpr)\n",
    "r2_gpr = r2_score(y_test_K, y_pred_gpr)\n",
    "\n",
    "print(f\"MSE pour le GPR : {mse_gpr:.4f}\")\n",
    "print(f\"R² pour le GPR : {r2_gpr:.4f}\")\n"
   ]
  },
  {
   "cell_type": "markdown",
   "metadata": {},
   "source": []
  },
  {
   "cell_type": "code",
   "execution_count": 51,
   "metadata": {},
   "outputs": [
    {
     "data": {
      "image/png": "[encoded data removed]",
      "text/plain": [
       "<Figure size 640x480 with 1 Axes>"
      ]
     },
     "metadata": {},
     "output_type": "display_data"
    }
   ],
   "source": [
    "import seaborn as sns\n",
    "import matplotlib.pyplot as plt\n",
    "\n",
    "# Distribution des erreurs\n",
    "residuals = y_test_K - y_pred\n",
    "sns.histplot(residuals, kde=True)\n",
    "plt.title('Distribution des erreurs résiduelles pour K')\n",
    "plt.xlabel('Erreur résiduelle')\n",
    "plt.ylabel('Fréquence')\n",
    "plt.show()\n"
   ]
  },
  {
   "cell_type": "code",
   "execution_count": null,
   "metadata": {},
   "outputs": [],
   "source": []
  }
 ],
 "metadata": {
  "kernelspec": {
   "display_name": "mlops",
   "language": "python",
   "name": "python3"
  },
  "language_info": {
   "codemirror_mode": {
    "name": "ipython",
    "version": 3
   },
   "file_extension": ".py",
   "mimetype": "text/x-python",
   "name": "python",
   "nbconvert_exporter": "python",
   "pygments_lexer": "ipython3",
   "version": "3.10.9"
  }
 },
 "nbformat": 4,
 "nbformat_minor": 2
}
